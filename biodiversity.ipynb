{
 "cells": [
  {
   "cell_type": "markdown",
   "metadata": {},
   "source": [
    "## Introduction\n",
    "\n",
    "The goal of this project is to analyze biodiversity data from the National Parks Service, focusing on the conservation statuses of various species observed in different national parks. This analysis aims to identify trends, patterns, and insights related to species endangerment and their distribution across parks.\n",
    "\n",
    "Throughout the project, data will be scoped, cleaned, analyzed, and visualized to answer key questions about conservation efforts and species health.\n",
    "\n",
    "The key questions this project seeks to address include:\n",
    "\n",
    "- What is the distribution of conservation status for animals across different parks?\n",
    "- Are certain types of species more likely to be endangered?\n",
    "- Are the differences between species and their conservation statuses significant?\n",
    "- Which species were spotted the most at each park?\n",
    "\n",
    "### Scoping\n",
    "\n",
    "Defining a clear project scope is essential for guiding the analysis process. This project aims to assess species conservation status, explore relationships between species categories and conservation status, along with identify the most frequently observed species in various parks. The provided data includes species information and observation records, which will be prepared and analyzed using methods such as descriptive statistics, visualization, and Chi-Square testing. The evaluation phase will compare results against initial goals, draw conclusions, and suggest areas for improvement.\n",
    "\n",
    "### Project Goals\n",
    "\n",
    "The primary objectives of this project are to assess the conservation status of species, determine if species categories and conservation statuses are significantly related, and identify the most frequently observed species within each park.\n",
    "\n",
    "### Data\n",
    "\n",
    "The analysis uses two provided datasets: one containing species information, including conservation status, and the other detailing observation records across four national parks. Data preparation includes merging datasets, handling missing values, and ensuring compatibility for analysis.\n",
    "\n",
    "### Analysis\n",
    "\n",
    "Various techniques are applied, including descriptive statistics, visualization, and statistical testing (Chi-Square Test), to explore species distribution, conservation status, and their relationships. Additionally, observations are aggregated to identify the most commonly spotted species per park.\n",
    "\n",
    "### Evaluation\n",
    "\n",
    "The last part of the project will revisit the initial goals to assess whether the analysis successfully addressed the research questions posed at the outset. This section will also review the key insights gained during the process along with addressing any limitations encountered.\n",
    "\n",
    "**Data Sources**:\n",
    "The datasets `Observations.csv` and `Species_info.csv` were provided by Codecademy.com.\n",
    "\n",
    "**Note**: The data used in this project is inspired by real-world data but is mostly fictional."
   ]
  },
  {
   "cell_type": "markdown",
   "metadata": {},
   "source": [
    "## Import Python Modules\n",
    "First step is importing the primary modules that will be used in this project:"
   ]
  },
  {
   "cell_type": "code",
   "execution_count": null,
   "metadata": {},
   "outputs": [],
   "source": [
    "import pandas as pd\n",
    "import numpy as np\n",
    "from matplotlib import pyplot as plt\n",
    "import seaborn as sns"
   ]
  },
  {
   "cell_type": "markdown",
   "metadata": {},
   "source": [
    "## Loading the data\n",
    "Loading the data sets `species_info.csv` and `observations.csv` is the first step in making the data accessible for analysis.\n"
   ]
  },
  {
   "cell_type": "code",
   "execution_count": null,
   "metadata": {},
   "outputs": [],
   "source": [
    "species = pd.read_csv('species_info.csv', encoding='utf-8')\n",
    "observations = pd.read_csv('observations.csv', encoding='utf-8')\n"
   ]
  },
  {
   "cell_type": "markdown",
   "metadata": {},
   "source": [
    "## Data Exploration and Cleaning\n",
    "\n",
    "Once the data is loaded, it’s essential to explore and clean it to ensure it’s in a usable format. This involves:\n",
    "\n",
    "- **Inspecting the data** to understand its structure, including column names, data types, and overall size.\n",
    "- **Checking for missing values**, duplicates, or irrelevant information, which can bias or mislead the analysis.\n",
    "- **Handling missing data** appropriately by either removing or filling it with reasonable values, ensuring the dataset remains representative and reliable.\n",
    "\n",
    "### Exploring `species_info.csv` data:\n"
   ]
  },
  {
   "cell_type": "code",
   "execution_count": null,
   "metadata": {},
   "outputs": [
    {
     "name": "stdout",
     "output_type": "stream",
     "text": [
      "<class 'pandas.core.frame.DataFrame'>\n",
      "RangeIndex: 5824 entries, 0 to 5823\n",
      "Data columns (total 4 columns):\n",
      " #   Column               Non-Null Count  Dtype \n",
      "---  ------               --------------  ----- \n",
      " 0   category             5824 non-null   object\n",
      " 1   scientific_name      5824 non-null   object\n",
      " 2   common_names         5824 non-null   object\n",
      " 3   conservation_status  191 non-null    object\n",
      "dtypes: object(4)\n",
      "memory usage: 182.1+ KB\n"
     ]
    },
    {
     "data": {
      "text/html": [
       "<div>\n",
       "<style scoped>\n",
       "    .dataframe tbody tr th:only-of-type {\n",
       "        vertical-align: middle;\n",
       "    }\n",
       "\n",
       "    .dataframe tbody tr th {\n",
       "        vertical-align: top;\n",
       "    }\n",
       "\n",
       "    .dataframe thead th {\n",
       "        text-align: right;\n",
       "    }\n",
       "</style>\n",
       "<table border=\"1\" class=\"dataframe\">\n",
       "  <thead>\n",
       "    <tr style=\"text-align: right;\">\n",
       "      <th></th>\n",
       "      <th>category</th>\n",
       "      <th>scientific_name</th>\n",
       "      <th>common_names</th>\n",
       "      <th>conservation_status</th>\n",
       "    </tr>\n",
       "  </thead>\n",
       "  <tbody>\n",
       "    <tr>\n",
       "      <th>count</th>\n",
       "      <td>5824</td>\n",
       "      <td>5824</td>\n",
       "      <td>5824</td>\n",
       "      <td>191</td>\n",
       "    </tr>\n",
       "    <tr>\n",
       "      <th>unique</th>\n",
       "      <td>7</td>\n",
       "      <td>5541</td>\n",
       "      <td>5504</td>\n",
       "      <td>4</td>\n",
       "    </tr>\n",
       "    <tr>\n",
       "      <th>top</th>\n",
       "      <td>Vascular Plant</td>\n",
       "      <td>Castor canadensis</td>\n",
       "      <td>Brachythecium Moss</td>\n",
       "      <td>Species of Concern</td>\n",
       "    </tr>\n",
       "    <tr>\n",
       "      <th>freq</th>\n",
       "      <td>4470</td>\n",
       "      <td>3</td>\n",
       "      <td>7</td>\n",
       "      <td>161</td>\n",
       "    </tr>\n",
       "  </tbody>\n",
       "</table>\n",
       "</div>"
      ],
      "text/plain": [
       "              category    scientific_name        common_names  \\\n",
       "count             5824               5824                5824   \n",
       "unique               7               5541                5504   \n",
       "top     Vascular Plant  Castor canadensis  Brachythecium Moss   \n",
       "freq              4470                  3                   7   \n",
       "\n",
       "       conservation_status  \n",
       "count                  191  \n",
       "unique                   4  \n",
       "top     Species of Concern  \n",
       "freq                   161  "
      ]
     },
     "execution_count": 39,
     "metadata": {},
     "output_type": "execute_result"
    }
   ],
   "source": [
    "species.head()\n",
    "species.info()\n",
    "species.describe()\n"
   ]
  },
  {
   "cell_type": "markdown",
   "metadata": {},
   "source": [
    "The `species_info.csv` contains information on the different species in the National Parks. There are **5,824** rows and **4** columns and the columns in the data set include:\n",
    "- **category** - The category of taxonomy for each species\n",
    "- **scientific_name** - The scientific name of each species\n",
    "- **common_names** - The common names of each species\n",
    "- **conservation_status** - The species conservation status\n",
    "\n",
    "It is apparent that `conservation_status` only has 191 entries (meaning 5633 missing values)."
   ]
  },
  {
   "cell_type": "code",
   "execution_count": null,
   "metadata": {},
   "outputs": [
    {
     "data": {
      "text/plain": [
       "conservation_status\n",
       "No Special Status     5633\n",
       "Species of Concern     161\n",
       "Endangered              16\n",
       "Threatened              10\n",
       "In Recovery              4\n",
       "Name: count, dtype: int64"
      ]
     },
     "execution_count": 42,
     "metadata": {},
     "output_type": "execute_result"
    }
   ],
   "source": [
    "species.fillna({'conservation_status': 'No Special Status'}, inplace=True)\n",
    "species['conservation_status'].value_counts()\n"
   ]
  },
  {
   "cell_type": "markdown",
   "metadata": {},
   "source": [
    "In most cases `NaN` values must be treated carefully, but the absence of data here most likely means that these species are not under any conservation status. I will therefore replace all `NaN` values in that column with the label `No Special Status`.\n",
    "\n",
    "The now updated `conservation_status`columns are:\n",
    "- **No Special Status**\n",
    "- **Species of Concern**\n",
    "- **Endangered**\n",
    "- **Threatened**\n",
    "- **In Recovery**"
   ]
  },
  {
   "cell_type": "markdown",
   "metadata": {},
   "source": [
    "### Exploring `observations.csv` data:"
   ]
  },
  {
   "cell_type": "code",
   "execution_count": null,
   "metadata": {},
   "outputs": [
    {
     "name": "stdout",
     "output_type": "stream",
     "text": [
      "<class 'pandas.core.frame.DataFrame'>\n",
      "RangeIndex: 23296 entries, 0 to 23295\n",
      "Data columns (total 3 columns):\n",
      " #   Column           Non-Null Count  Dtype \n",
      "---  ------           --------------  ----- \n",
      " 0   scientific_name  23296 non-null  object\n",
      " 1   park_name        23296 non-null  object\n",
      " 2   observations     23296 non-null  int64 \n",
      "dtypes: int64(1), object(2)\n",
      "memory usage: 546.1+ KB\n"
     ]
    },
    {
     "data": {
      "text/html": [
       "<div>\n",
       "<style scoped>\n",
       "    .dataframe tbody tr th:only-of-type {\n",
       "        vertical-align: middle;\n",
       "    }\n",
       "\n",
       "    .dataframe tbody tr th {\n",
       "        vertical-align: top;\n",
       "    }\n",
       "\n",
       "    .dataframe thead th {\n",
       "        text-align: right;\n",
       "    }\n",
       "</style>\n",
       "<table border=\"1\" class=\"dataframe\">\n",
       "  <thead>\n",
       "    <tr style=\"text-align: right;\">\n",
       "      <th></th>\n",
       "      <th>observations</th>\n",
       "    </tr>\n",
       "  </thead>\n",
       "  <tbody>\n",
       "    <tr>\n",
       "      <th>count</th>\n",
       "      <td>23296.000000</td>\n",
       "    </tr>\n",
       "    <tr>\n",
       "      <th>mean</th>\n",
       "      <td>142.287904</td>\n",
       "    </tr>\n",
       "    <tr>\n",
       "      <th>std</th>\n",
       "      <td>69.890532</td>\n",
       "    </tr>\n",
       "    <tr>\n",
       "      <th>min</th>\n",
       "      <td>9.000000</td>\n",
       "    </tr>\n",
       "    <tr>\n",
       "      <th>25%</th>\n",
       "      <td>86.000000</td>\n",
       "    </tr>\n",
       "    <tr>\n",
       "      <th>50%</th>\n",
       "      <td>124.000000</td>\n",
       "    </tr>\n",
       "    <tr>\n",
       "      <th>75%</th>\n",
       "      <td>195.000000</td>\n",
       "    </tr>\n",
       "    <tr>\n",
       "      <th>max</th>\n",
       "      <td>321.000000</td>\n",
       "    </tr>\n",
       "  </tbody>\n",
       "</table>\n",
       "</div>"
      ],
      "text/plain": [
       "       observations\n",
       "count  23296.000000\n",
       "mean     142.287904\n",
       "std       69.890532\n",
       "min        9.000000\n",
       "25%       86.000000\n",
       "50%      124.000000\n",
       "75%      195.000000\n",
       "max      321.000000"
      ]
     },
     "execution_count": 38,
     "metadata": {},
     "output_type": "execute_result"
    }
   ],
   "source": [
    "observations.head()\n",
    "observations.info()\n",
    "observations.describe()\n"
   ]
  },
  {
   "cell_type": "markdown",
   "metadata": {},
   "source": [
    "The `observations.csv` holds information from recorded sightings of different species at several national parks for the past 7 days. The columns in the data set include:\n",
    "\n",
    "- **scientific_name** - The scientific name of each species\n",
    "- **park_name** - The name of the national park\n",
    "- **observations** - The number of observations in the past 7 days"
   ]
  },
  {
   "cell_type": "markdown",
   "metadata": {},
   "source": [
    "## Analysis\n",
    "\n",
    "This section analyzes the data following initial exploration, aiming to extract meaningful insights to address key questions:\n",
    "\n",
    "- ***Conservation Status Distribution*** - Identifying trends in conservation and categories needing attention.\n",
    "- ***Endangerment Likelihood by Species Type*** - Determining if certain species types are more prone to endangerment.\n",
    "- ***Statistical Testing*** - Validating findings to ensure observed patterns are statistically significant.\n",
    "- ***Most Commonly Spotted Species*** - Identifying frequently observed species to assess abundance and resilience."
   ]
  },
  {
   "cell_type": "code",
   "execution_count": null,
   "metadata": {},
   "outputs": [
    {
     "data": {
      "text/html": [
       "<div>\n",
       "<style scoped>\n",
       "    .dataframe tbody tr th:only-of-type {\n",
       "        vertical-align: middle;\n",
       "    }\n",
       "\n",
       "    .dataframe tbody tr th {\n",
       "        vertical-align: top;\n",
       "    }\n",
       "\n",
       "    .dataframe thead th {\n",
       "        text-align: right;\n",
       "    }\n",
       "</style>\n",
       "<table border=\"1\" class=\"dataframe\">\n",
       "  <thead>\n",
       "    <tr style=\"text-align: right;\">\n",
       "      <th></th>\n",
       "      <th>category</th>\n",
       "      <th>scientific_name</th>\n",
       "      <th>common_names</th>\n",
       "      <th>conservation_status</th>\n",
       "      <th>park_name</th>\n",
       "      <th>observations</th>\n",
       "    </tr>\n",
       "  </thead>\n",
       "  <tbody>\n",
       "    <tr>\n",
       "      <th>0</th>\n",
       "      <td>Mammal</td>\n",
       "      <td>Clethrionomys gapperi gapperi</td>\n",
       "      <td>Gapper's Red-Backed Vole</td>\n",
       "      <td>No Special Status</td>\n",
       "      <td>Bryce National Park</td>\n",
       "      <td>130</td>\n",
       "    </tr>\n",
       "    <tr>\n",
       "      <th>1</th>\n",
       "      <td>Mammal</td>\n",
       "      <td>Clethrionomys gapperi gapperi</td>\n",
       "      <td>Gapper's Red-Backed Vole</td>\n",
       "      <td>No Special Status</td>\n",
       "      <td>Yellowstone National Park</td>\n",
       "      <td>270</td>\n",
       "    </tr>\n",
       "    <tr>\n",
       "      <th>2</th>\n",
       "      <td>Mammal</td>\n",
       "      <td>Clethrionomys gapperi gapperi</td>\n",
       "      <td>Gapper's Red-Backed Vole</td>\n",
       "      <td>No Special Status</td>\n",
       "      <td>Great Smoky Mountains National Park</td>\n",
       "      <td>98</td>\n",
       "    </tr>\n",
       "    <tr>\n",
       "      <th>3</th>\n",
       "      <td>Mammal</td>\n",
       "      <td>Clethrionomys gapperi gapperi</td>\n",
       "      <td>Gapper's Red-Backed Vole</td>\n",
       "      <td>No Special Status</td>\n",
       "      <td>Yosemite National Park</td>\n",
       "      <td>117</td>\n",
       "    </tr>\n",
       "    <tr>\n",
       "      <th>4</th>\n",
       "      <td>Mammal</td>\n",
       "      <td>Bos bison</td>\n",
       "      <td>American Bison, Bison</td>\n",
       "      <td>No Special Status</td>\n",
       "      <td>Yosemite National Park</td>\n",
       "      <td>128</td>\n",
       "    </tr>\n",
       "  </tbody>\n",
       "</table>\n",
       "</div>"
      ],
      "text/plain": [
       "  category                scientific_name              common_names  \\\n",
       "0   Mammal  Clethrionomys gapperi gapperi  Gapper's Red-Backed Vole   \n",
       "1   Mammal  Clethrionomys gapperi gapperi  Gapper's Red-Backed Vole   \n",
       "2   Mammal  Clethrionomys gapperi gapperi  Gapper's Red-Backed Vole   \n",
       "3   Mammal  Clethrionomys gapperi gapperi  Gapper's Red-Backed Vole   \n",
       "4   Mammal                      Bos bison     American Bison, Bison   \n",
       "\n",
       "  conservation_status                            park_name  observations  \n",
       "0   No Special Status                  Bryce National Park           130  \n",
       "1   No Special Status            Yellowstone National Park           270  \n",
       "2   No Special Status  Great Smoky Mountains National Park            98  \n",
       "3   No Special Status               Yosemite National Park           117  \n",
       "4   No Special Status               Yosemite National Park           128  "
      ]
     },
     "execution_count": 43,
     "metadata": {},
     "output_type": "execute_result"
    }
   ],
   "source": [
    "merged_df = pd.merge(species, observations, on='scientific_name')\n",
    "merged_df.head()\n"
   ]
  },
  {
   "cell_type": "markdown",
   "metadata": {},
   "source": [
    "Merging the two data sets combines relevant information from `species` and `observarions` into one comprehensive table, which enables more meaningful analysis."
   ]
  },
  {
   "cell_type": "code",
   "execution_count": 44,
   "metadata": {},
   "outputs": [
    {
     "name": "stdout",
     "output_type": "stream",
     "text": [
      "conservation_status\n",
      "No Special Status     24752\n",
      "Species of Concern      732\n",
      "Endangered               80\n",
      "Threatened               44\n",
      "In Recovery              24\n",
      "Name: count, dtype: int64\n"
     ]
    }
   ],
   "source": [
    "conservation_distribution = merged_df['conservation_status'].value_counts()\n",
    "print(conservation_distribution)\n"
   ]
  },
  {
   "cell_type": "markdown",
   "metadata": {},
   "source": [
    "Since the two datasets (`species`and `observations`) now are merged, the `value_counts` function will include both species and the additional context of where and how often those species were observed.\n",
    "\n",
    "Before the merge, the `value_counts` for `species` was focused solely on the conservation statuses of species without considering their observations or parks."
   ]
  },
  {
   "cell_type": "code",
   "execution_count": null,
   "metadata": {},
   "outputs": [
    {
     "name": "stdout",
     "output_type": "stream",
     "text": [
      "                              park_name conservation_status  species_count\n",
      "0                   Bryce National Park          Endangered             20\n",
      "1                   Bryce National Park         In Recovery              6\n",
      "2                   Bryce National Park   No Special Status           6188\n",
      "3                   Bryce National Park  Species of Concern            183\n",
      "4                   Bryce National Park          Threatened             11\n",
      "5   Great Smoky Mountains National Park          Endangered             20\n",
      "6   Great Smoky Mountains National Park         In Recovery              6\n",
      "7   Great Smoky Mountains National Park   No Special Status           6188\n",
      "8   Great Smoky Mountains National Park  Species of Concern            183\n",
      "9   Great Smoky Mountains National Park          Threatened             11\n",
      "10            Yellowstone National Park          Endangered             20\n",
      "11            Yellowstone National Park         In Recovery              6\n",
      "12            Yellowstone National Park   No Special Status           6188\n",
      "13            Yellowstone National Park  Species of Concern            183\n",
      "14            Yellowstone National Park          Threatened             11\n",
      "15               Yosemite National Park          Endangered             20\n",
      "16               Yosemite National Park         In Recovery              6\n",
      "17               Yosemite National Park   No Special Status           6188\n",
      "18               Yosemite National Park  Species of Concern            183\n",
      "19               Yosemite National Park          Threatened             11\n"
     ]
    }
   ],
   "source": [
    "park_status_distribution = merged_df.groupby(['park_name', 'conservation_status']).size().reset_index(name='species_count')\n",
    "print(park_status_distribution)\n"
   ]
  },
  {
   "cell_type": "markdown",
   "metadata": {},
   "source": [
    "Since the majority of species are categorized as having `No Special Status`, meaning they are not considered to be under immediate threat, the following chart focuses only on species within conservation statuses that require intervention. By excluding `No Special Status`, we can better understand the distribution of species that are at risk and need attention.”"
   ]
  },
  {
   "cell_type": "code",
   "execution_count": null,
   "metadata": {},
   "outputs": [
    {
     "data": {
      "image/png": "[encoded data removed]",
      "text/plain": [
       "<Figure size 600x400 with 1 Axes>"
      ]
     },
     "metadata": {},
     "output_type": "display_data"
    },
    {
     "data": {
      "text/plain": [
       "<Figure size 640x480 with 0 Axes>"
      ]
     },
     "metadata": {},
     "output_type": "display_data"
    }
   ],
   "source": [
    "filtered_species = species[species['conservation_status'] != 'No Special Status']\n",
    "\n",
    "plt.figure(figsize=(6,4))\n",
    "sns.countplot(x='conservation_status', data=filtered_species, color='skyblue')\n",
    "plt.title('Distribution of Species Conservation Status (Excluding No Special Status)')\n",
    "plt.xlabel('Conservation Status')\n",
    "plt.ylabel('Number of Species')\n",
    "plt.xticks(rotation=45)\n",
    "\n",
    "plt.show()\n"
   ]
  },
  {
   "cell_type": "markdown",
   "metadata": {},
   "source": [
    "### Are certain types of species more likely to be endangered?\n",
    "\n",
    "This analysis also aims to identify which categories of species (e.g., mammals, birds) are more likely to be endangered compared to others. It will help highlighting which species need the most conservation attention."
   ]
  },
  {
   "cell_type": "code",
   "execution_count": null,
   "metadata": {},
   "outputs": [
    {
     "data": {
      "text/html": [
       "<div>\n",
       "<style scoped>\n",
       "    .dataframe tbody tr th:only-of-type {\n",
       "        vertical-align: middle;\n",
       "    }\n",
       "\n",
       "    .dataframe tbody tr th {\n",
       "        vertical-align: top;\n",
       "    }\n",
       "\n",
       "    .dataframe thead th {\n",
       "        text-align: right;\n",
       "    }\n",
       "</style>\n",
       "<table border=\"1\" class=\"dataframe\">\n",
       "  <thead>\n",
       "    <tr style=\"text-align: right;\">\n",
       "      <th>conservation_status</th>\n",
       "      <th>Endangered</th>\n",
       "      <th>In Recovery</th>\n",
       "      <th>No Special Status</th>\n",
       "      <th>Species of Concern</th>\n",
       "      <th>Threatened</th>\n",
       "    </tr>\n",
       "    <tr>\n",
       "      <th>category</th>\n",
       "      <th></th>\n",
       "      <th></th>\n",
       "      <th></th>\n",
       "      <th></th>\n",
       "      <th></th>\n",
       "    </tr>\n",
       "  </thead>\n",
       "  <tbody>\n",
       "    <tr>\n",
       "      <th>Amphibian</th>\n",
       "      <td>1</td>\n",
       "      <td>0</td>\n",
       "      <td>73</td>\n",
       "      <td>4</td>\n",
       "      <td>2</td>\n",
       "    </tr>\n",
       "    <tr>\n",
       "      <th>Bird</th>\n",
       "      <td>4</td>\n",
       "      <td>3</td>\n",
       "      <td>442</td>\n",
       "      <td>72</td>\n",
       "      <td>0</td>\n",
       "    </tr>\n",
       "    <tr>\n",
       "      <th>Fish</th>\n",
       "      <td>3</td>\n",
       "      <td>0</td>\n",
       "      <td>116</td>\n",
       "      <td>4</td>\n",
       "      <td>4</td>\n",
       "    </tr>\n",
       "    <tr>\n",
       "      <th>Mammal</th>\n",
       "      <td>7</td>\n",
       "      <td>1</td>\n",
       "      <td>176</td>\n",
       "      <td>28</td>\n",
       "      <td>2</td>\n",
       "    </tr>\n",
       "    <tr>\n",
       "      <th>Nonvascular Plant</th>\n",
       "      <td>0</td>\n",
       "      <td>0</td>\n",
       "      <td>328</td>\n",
       "      <td>5</td>\n",
       "      <td>0</td>\n",
       "    </tr>\n",
       "    <tr>\n",
       "      <th>Reptile</th>\n",
       "      <td>0</td>\n",
       "      <td>0</td>\n",
       "      <td>74</td>\n",
       "      <td>5</td>\n",
       "      <td>0</td>\n",
       "    </tr>\n",
       "    <tr>\n",
       "      <th>Vascular Plant</th>\n",
       "      <td>1</td>\n",
       "      <td>0</td>\n",
       "      <td>4424</td>\n",
       "      <td>43</td>\n",
       "      <td>2</td>\n",
       "    </tr>\n",
       "  </tbody>\n",
       "</table>\n",
       "</div>"
      ],
      "text/plain": [
       "conservation_status  Endangered  In Recovery  No Special Status  \\\n",
       "category                                                          \n",
       "Amphibian                     1            0                 73   \n",
       "Bird                          4            3                442   \n",
       "Fish                          3            0                116   \n",
       "Mammal                        7            1                176   \n",
       "Nonvascular Plant             0            0                328   \n",
       "Reptile                       0            0                 74   \n",
       "Vascular Plant                1            0               4424   \n",
       "\n",
       "conservation_status  Species of Concern  Threatened  \n",
       "category                                             \n",
       "Amphibian                             4           2  \n",
       "Bird                                 72           0  \n",
       "Fish                                  4           4  \n",
       "Mammal                               28           2  \n",
       "Nonvascular Plant                     5           0  \n",
       "Reptile                               5           0  \n",
       "Vascular Plant                       43           2  "
      ]
     },
     "execution_count": 110,
     "metadata": {},
     "output_type": "execute_result"
    }
   ],
   "source": [
    "category_status = species.groupby(['category', 'conservation_status']).size().unstack(fill_value=0)\n",
    "category_status\n"
   ]
  },
  {
   "cell_type": "markdown",
   "metadata": {},
   "source": [
    "By grouping the `species` data by both `category` and `conservation_status`, the summary table shows the count of species for each conservation status (e.g., Endangered, Threatened, etc.) within each species category."
   ]
  },
  {
   "cell_type": "code",
   "execution_count": null,
   "metadata": {},
   "outputs": [
    {
     "data": {
      "text/html": [
       "<div>\n",
       "<style scoped>\n",
       "    .dataframe tbody tr th:only-of-type {\n",
       "        vertical-align: middle;\n",
       "    }\n",
       "\n",
       "    .dataframe tbody tr th {\n",
       "        vertical-align: top;\n",
       "    }\n",
       "\n",
       "    .dataframe thead th {\n",
       "        text-align: right;\n",
       "    }\n",
       "</style>\n",
       "<table border=\"1\" class=\"dataframe\">\n",
       "  <thead>\n",
       "    <tr style=\"text-align: right;\">\n",
       "      <th>conservation_status</th>\n",
       "      <th>Endangered Proportion</th>\n",
       "    </tr>\n",
       "    <tr>\n",
       "      <th>category</th>\n",
       "      <th></th>\n",
       "    </tr>\n",
       "  </thead>\n",
       "  <tbody>\n",
       "    <tr>\n",
       "      <th>Mammal</th>\n",
       "      <td>0.032213</td>\n",
       "    </tr>\n",
       "    <tr>\n",
       "      <th>Fish</th>\n",
       "      <td>0.023187</td>\n",
       "    </tr>\n",
       "    <tr>\n",
       "      <th>Amphibian</th>\n",
       "      <td>0.012306</td>\n",
       "    </tr>\n",
       "    <tr>\n",
       "      <th>Bird</th>\n",
       "      <td>0.007666</td>\n",
       "    </tr>\n",
       "    <tr>\n",
       "      <th>Vascular Plant</th>\n",
       "      <td>0.000224</td>\n",
       "    </tr>\n",
       "    <tr>\n",
       "      <th>Nonvascular Plant</th>\n",
       "      <td>0.000000</td>\n",
       "    </tr>\n",
       "    <tr>\n",
       "      <th>Reptile</th>\n",
       "      <td>0.000000</td>\n",
       "    </tr>\n",
       "  </tbody>\n",
       "</table>\n",
       "</div>"
      ],
      "text/plain": [
       "conservation_status  Endangered Proportion\n",
       "category                                  \n",
       "Mammal                            0.032213\n",
       "Fish                              0.023187\n",
       "Amphibian                         0.012306\n",
       "Bird                              0.007666\n",
       "Vascular Plant                    0.000224\n",
       "Nonvascular Plant                 0.000000\n",
       "Reptile                           0.000000"
      ]
     },
     "execution_count": 118,
     "metadata": {},
     "output_type": "execute_result"
    }
   ],
   "source": [
    "category_status['Endangered Proportion'] = category_status['Endangered'] / category_status.sum(axis=1)\n",
    "category_status[['Endangered Proportion']].sort_values(by='Endangered Proportion', ascending=False)\n"
   ]
  },
  {
   "cell_type": "markdown",
   "metadata": {},
   "source": [
    "`category_status` displays the proportion of endangered species within each species category, helping to compare the conservation urgency across different categories."
   ]
  },
  {
   "cell_type": "code",
   "execution_count": null,
   "metadata": {},
   "outputs": [
    {
     "data": {
      "text/plain": [
       "category\n",
       "Mammal               7.0\n",
       "Bird                 4.0\n",
       "Fish                 3.0\n",
       "Amphibian            1.0\n",
       "Vascular Plant       1.0\n",
       "Nonvascular Plant    0.0\n",
       "Reptile              0.0\n",
       "dtype: float64"
      ]
     },
     "execution_count": 116,
     "metadata": {},
     "output_type": "execute_result"
    }
   ],
   "source": [
    "total_species_count = species.groupby('category').size()\n",
    "category_endangered_count = category_status['Endangered Proportion'] * total_species_count\n",
    "category_endangered_count_sorted = category_endangered_count.sort_values(ascending=False)\n",
    "category_endangered_count_sorted\n"
   ]
  },
  {
   "cell_type": "markdown",
   "metadata": {},
   "source": [
    "Next step is to calculate the total number of species in each category, followed by estimating the number of endangered species by multiplying the proportion of endangered species (from our earlier analysis) by the total species count in each category. This provides a clear view of where the most endangered species are concentrated across different categories."
   ]
  },
  {
   "cell_type": "code",
   "execution_count": null,
   "metadata": {},
   "outputs": [
    {
     "data": {
      "image/png": "[encoded data removed]",
      "text/plain": [
       "<Figure size 600x400 with 1 Axes>"
      ]
     },
     "metadata": {},
     "output_type": "display_data"
    },
    {
     "data": {
      "text/plain": [
       "<Figure size 640x480 with 0 Axes>"
      ]
     },
     "metadata": {},
     "output_type": "display_data"
    }
   ],
   "source": [
    "category_endangered_count = species[species['conservation_status'] == 'Endangered'].groupby('category').size()\n",
    "\n",
    "plt.figure(figsize=(6,4))\n",
    "category_endangered_count.sort_values().plot(kind='barh', color='salmon')\n",
    "\n",
    "plt.title('Number of Endangered Species by Category')\n",
    "plt.xlabel('Number of Endangered Species')\n",
    "plt.ylabel('Species by Category')\n",
    "\n",
    "plt.show()\n"
   ]
  },
  {
   "cell_type": "markdown",
   "metadata": {},
   "source": [
    "### Are the differences between species and their conservation statuses significant?\n",
    "\n",
    "To answer this I created a contingency table that shows the relationship between categories of species and their conservation status. The following steps performs a Chi-Square Test to determine whether there is a significant relationship between these two variables."
   ]
  },
  {
   "cell_type": "code",
   "execution_count": 128,
   "metadata": {},
   "outputs": [
    {
     "data": {
      "text/html": [
       "<div>\n",
       "<style scoped>\n",
       "    .dataframe tbody tr th:only-of-type {\n",
       "        vertical-align: middle;\n",
       "    }\n",
       "\n",
       "    .dataframe tbody tr th {\n",
       "        vertical-align: top;\n",
       "    }\n",
       "\n",
       "    .dataframe thead th {\n",
       "        text-align: right;\n",
       "    }\n",
       "</style>\n",
       "<table border=\"1\" class=\"dataframe\">\n",
       "  <thead>\n",
       "    <tr style=\"text-align: right;\">\n",
       "      <th>conservation_status</th>\n",
       "      <th>Endangered</th>\n",
       "      <th>In Recovery</th>\n",
       "      <th>No Special Status</th>\n",
       "      <th>Species of Concern</th>\n",
       "      <th>Threatened</th>\n",
       "    </tr>\n",
       "    <tr>\n",
       "      <th>category</th>\n",
       "      <th></th>\n",
       "      <th></th>\n",
       "      <th></th>\n",
       "      <th></th>\n",
       "      <th></th>\n",
       "    </tr>\n",
       "  </thead>\n",
       "  <tbody>\n",
       "    <tr>\n",
       "      <th>Amphibian</th>\n",
       "      <td>1</td>\n",
       "      <td>0</td>\n",
       "      <td>73</td>\n",
       "      <td>4</td>\n",
       "      <td>2</td>\n",
       "    </tr>\n",
       "    <tr>\n",
       "      <th>Bird</th>\n",
       "      <td>4</td>\n",
       "      <td>3</td>\n",
       "      <td>442</td>\n",
       "      <td>72</td>\n",
       "      <td>0</td>\n",
       "    </tr>\n",
       "    <tr>\n",
       "      <th>Fish</th>\n",
       "      <td>3</td>\n",
       "      <td>0</td>\n",
       "      <td>116</td>\n",
       "      <td>4</td>\n",
       "      <td>4</td>\n",
       "    </tr>\n",
       "    <tr>\n",
       "      <th>Mammal</th>\n",
       "      <td>7</td>\n",
       "      <td>1</td>\n",
       "      <td>176</td>\n",
       "      <td>28</td>\n",
       "      <td>2</td>\n",
       "    </tr>\n",
       "    <tr>\n",
       "      <th>Nonvascular Plant</th>\n",
       "      <td>0</td>\n",
       "      <td>0</td>\n",
       "      <td>328</td>\n",
       "      <td>5</td>\n",
       "      <td>0</td>\n",
       "    </tr>\n",
       "    <tr>\n",
       "      <th>Reptile</th>\n",
       "      <td>0</td>\n",
       "      <td>0</td>\n",
       "      <td>74</td>\n",
       "      <td>5</td>\n",
       "      <td>0</td>\n",
       "    </tr>\n",
       "    <tr>\n",
       "      <th>Vascular Plant</th>\n",
       "      <td>1</td>\n",
       "      <td>0</td>\n",
       "      <td>4424</td>\n",
       "      <td>43</td>\n",
       "      <td>2</td>\n",
       "    </tr>\n",
       "  </tbody>\n",
       "</table>\n",
       "</div>"
      ],
      "text/plain": [
       "conservation_status  Endangered  In Recovery  No Special Status  \\\n",
       "category                                                          \n",
       "Amphibian                     1            0                 73   \n",
       "Bird                          4            3                442   \n",
       "Fish                          3            0                116   \n",
       "Mammal                        7            1                176   \n",
       "Nonvascular Plant             0            0                328   \n",
       "Reptile                       0            0                 74   \n",
       "Vascular Plant                1            0               4424   \n",
       "\n",
       "conservation_status  Species of Concern  Threatened  \n",
       "category                                             \n",
       "Amphibian                             4           2  \n",
       "Bird                                 72           0  \n",
       "Fish                                  4           4  \n",
       "Mammal                               28           2  \n",
       "Nonvascular Plant                     5           0  \n",
       "Reptile                               5           0  \n",
       "Vascular Plant                       43           2  "
      ]
     },
     "execution_count": 128,
     "metadata": {},
     "output_type": "execute_result"
    }
   ],
   "source": [
    "contingency_table = pd.crosstab(species['category'], species['conservation_status'])\n",
    "contingency_table"
   ]
  },
  {
   "cell_type": "code",
   "execution_count": null,
   "metadata": {},
   "outputs": [
    {
     "name": "stdout",
     "output_type": "stream",
     "text": [
      "Chi-Square Test p-value: 2.455142316599019e-117\n",
      "There is a significant relationship between species category and conservation status.\n"
     ]
    }
   ],
   "source": [
    "from scipy.stats import chi2_contingency\n",
    "\n",
    "contingency_table = pd.crosstab(species['category'], species['conservation_status'])\n",
    "\n",
    "chi2, p, dof, expected = chi2_contingency(contingency_table)\n",
    "\n",
    "print(f\"Chi-Square Test p-value: {p}\")\n",
    "\n",
    "if p < 0.05:\n",
    "    print(\"There is a significant relationship between species category and conservation status.\")\n",
    "else:\n",
    "    print(\"There is no significant relationship between species category and conservation status.\")\n"
   ]
  },
  {
   "cell_type": "markdown",
   "metadata": {},
   "source": [
    "The test confirms a significant relationship between species `category` and `conservation_status`, suggesting that some species categories are more likely to face conservation challenges than others."
   ]
  },
  {
   "cell_type": "markdown",
   "metadata": {},
   "source": [
    "### Which species were spotted the most at each park?\n",
    "\n",
    "To identify the most observed species across various national parks, the first step is to aggregate the data by park name and species, followed by summing the number of observations for each species within each park. The data is then sorted by the number of observations in descending order, so the species with the highest count for each park are listed first. Finally, the top species for each park was selected  by taking the first entry after sorting."
   ]
  },
  {
   "cell_type": "code",
   "execution_count": null,
   "metadata": {},
   "outputs": [
    {
     "name": "stdout",
     "output_type": "stream",
     "text": [
      "                                 park_name        scientific_name  observations\n",
      "1359                   Bryce National Park          Columba livia          1017\n",
      "10534  Great Smoky Mountains National Park  Streptopelia decaocto           768\n",
      "13534            Yellowstone National Park         Holcus lanatus          2415\n",
      "19178               Yosemite National Park   Hypochaeris radicata          1515\n"
     ]
    }
   ],
   "source": [
    "species_per_park = merged_df.groupby(['park_name', 'scientific_name'])['observations'].sum().reset_index()\n",
    "\n",
    "most_spotted_species = species_per_park.sort_values(['park_name', 'observations'], ascending=[True, False])\n",
    "\n",
    "top_species_per_park = most_spotted_species.groupby('park_name').head(1)\n",
    "\n",
    "print(top_species_per_park.to_string())\n",
    "\n",
    "\n",
    "\n"
   ]
  },
  {
   "cell_type": "markdown",
   "metadata": {},
   "source": [
    "### Observations\n",
    "\n",
    "The table shows the most frequently observed species within each of the four national parks in the dataset. The species with the highest number of recorded observations for each park are as follows:\n",
    "\n",
    "- **Bryce National Park** - Columba livia (Pigeon) with **1,017** observations.\n",
    "- **Great Smoky Mountains National Park** - Streptopelia decaocto (Eurasian Collared-Dove) with **768** observations.\n",
    "- **Yellowstone National Park** - Holcus lanatus (Common Velvet Grass) with **2,415** observations.\n",
    "- **Yosemite National Park** - Hypochaeris radicata (Hairy Cat's Ear) with **1,515** observations.\n",
    "\n",
    "These species are primarily birds and plants, indicating they are either commonly found or highly monitored in their respective parks. The higher counts might also suggest they are particularly abundant or easy to observe."
   ]
  },
  {
   "cell_type": "markdown",
   "metadata": {},
   "source": [
    "## Conclusions\n",
    "\n",
    "The project was able to make several data visualizations and inferences about the various species in four of the National Parks that comprised this data set.\n",
    "\n",
    "This project was also able to answer some of the questions first posed in the beginning:\n",
    "\n",
    "- What is the distribution of conservation status for animals across different parks?\n",
    "    - The vast majority of species were not part of conservation (5,633 vs 191).\n",
    "- Are certain types of species more likely to be endangered?\n",
    "    - Mammals and Birds had the highest percentage of being in protection.\n",
    "- Are the differences between species and their conservation statuses significant?\n",
    "    - ***Yes***, the Chi-Square Test results indicated that there is a significant relationship between species category and conservation status.\n",
    "- Which species were spotted the most at each park?\n",
    "    - ***Columba livia*** (Pigeon) for Bryce National Park, ***Streptopelia decaocto*** (Eurasian Collared-Dove) for Great Smoky Mountains National Park, ***Holcus lanatus*** (Common Velvet Grass) for Yellowstone National Park and ***Hypochaeris radicata*** (Hairy Cat's Ear) for Yosemite National Park."
   ]
  },
  {
   "cell_type": "markdown",
   "metadata": {},
   "source": [
    "## Further Research \n",
    "\n",
    "The dataset only covers observations from the past 7 days, limiting the ability to analyze trends and changes over time. It would be valuable to explore how the conservation status of different species evolves over a longer period. Additionally, the area size of each park is not included in the dataset, but it’s likely that larger parks, such as Yellowstone, would have more observations and a greater variety of species. Finally, if more detailed location data were available, it would allow for an analysis of the spatial distribution of species, potentially revealing if the observations are clustered in specific areas."
   ]
  }
 ],
 "metadata": {
  "kernelspec": {
   "display_name": "Python 3",
   "language": "python",
   "name": "python3"
  },
  "language_info": {
   "codemirror_mode": {
    "name": "ipython",
    "version": 3
   },
   "file_extension": ".py",
   "mimetype": "text/x-python",
   "name": "python",
   "nbconvert_exporter": "python",
   "pygments_lexer": "ipython3",
   "version": "3.12.8"
  }
 },
 "nbformat": 4,
 "nbformat_minor": 4
}
